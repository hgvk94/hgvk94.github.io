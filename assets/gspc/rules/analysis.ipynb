{
 "cells": [
  {
   "cell_type": "markdown",
   "metadata": {},
   "source": [
    "# Comparing rules of GSPACER on lia instances\n",
    "Pandas cheatsheet: https://pandas.pydata.org/Pandas_Cheat_Sheet.pdf"
   ]
  },
  {
   "cell_type": "code",
   "execution_count": 1,
   "metadata": {},
   "outputs": [],
   "source": [
    "import pandas as pd\n",
    "import numpy as np\n",
    "import matplotlib.pyplot as plt \n",
    "from IPython.core.display import display, HTML"
   ]
  },
  {
   "cell_type": "code",
   "execution_count": 4,
   "metadata": {},
   "outputs": [
    {
     "data": {
      "text/html": [
       "<div>\n",
       "<style scoped>\n",
       "    .dataframe tbody tr th:only-of-type {\n",
       "        vertical-align: middle;\n",
       "    }\n",
       "\n",
       "    .dataframe tbody tr th {\n",
       "        vertical-align: top;\n",
       "    }\n",
       "\n",
       "    .dataframe thead th {\n",
       "        text-align: right;\n",
       "    }\n",
       "</style>\n",
       "<table border=\"1\" class=\"dataframe\">\n",
       "  <thead>\n",
       "    <tr style=\"text-align: right;\">\n",
       "      <th></th>\n",
       "      <th>index</th>\n",
       "      <th>SPACER_cex_depth</th>\n",
       "      <th>SPACER_cluster_out_of_gas</th>\n",
       "      <th>SPACER_expand_pob_undef</th>\n",
       "      <th>SPACER_inductive_level</th>\n",
       "      <th>SPACER_max_cluster_size</th>\n",
       "      <th>SPACER_max_cvx_reduced_dim</th>\n",
       "      <th>SPACER_max_depth</th>\n",
       "      <th>SPACER_max_query_lvl</th>\n",
       "      <th>SPACER_need_sage</th>\n",
       "      <th>...</th>\n",
       "      <th>time_spacer_solve_propagate</th>\n",
       "      <th>time_spacer_solve_pt_must_reachable</th>\n",
       "      <th>time_spacer_solve_reach</th>\n",
       "      <th>time_spacer_solve_reach_children</th>\n",
       "      <th>time_spacer_solve_reach_cluster</th>\n",
       "      <th>time_spacer_solve_reach_gen_bool_ind</th>\n",
       "      <th>time_spacer_solve_reach_gen_merge</th>\n",
       "      <th>time_spacer_solve_reach_gen_merge_cvx_cls</th>\n",
       "      <th>time_spacer_solve_reach_gen_wide</th>\n",
       "      <th>time_spacer_solve_reach_is_reach</th>\n",
       "    </tr>\n",
       "  </thead>\n",
       "  <tbody>\n",
       "    <tr>\n",
       "      <th>9</th>\n",
       "      <td>chc-lia-0000.smt2</td>\n",
       "      <td>NaN</td>\n",
       "      <td>NaN</td>\n",
       "      <td>2.0</td>\n",
       "      <td>NaN</td>\n",
       "      <td>NaN</td>\n",
       "      <td>NaN</td>\n",
       "      <td>1.0</td>\n",
       "      <td>1.0</td>\n",
       "      <td>NaN</td>\n",
       "      <td>...</td>\n",
       "      <td>0.00</td>\n",
       "      <td>NaN</td>\n",
       "      <td>0.00</td>\n",
       "      <td>0.00</td>\n",
       "      <td>0.00</td>\n",
       "      <td>0.00</td>\n",
       "      <td>0.00</td>\n",
       "      <td>NaN</td>\n",
       "      <td>0.00</td>\n",
       "      <td>0.00</td>\n",
       "    </tr>\n",
       "    <tr>\n",
       "      <th>10</th>\n",
       "      <td>chc-lia-0001.smt2</td>\n",
       "      <td>NaN</td>\n",
       "      <td>9.0</td>\n",
       "      <td>NaN</td>\n",
       "      <td>22.0</td>\n",
       "      <td>5.0</td>\n",
       "      <td>1.0</td>\n",
       "      <td>24.0</td>\n",
       "      <td>24.0</td>\n",
       "      <td>NaN</td>\n",
       "      <td>...</td>\n",
       "      <td>0.02</td>\n",
       "      <td>NaN</td>\n",
       "      <td>0.13</td>\n",
       "      <td>0.01</td>\n",
       "      <td>0.02</td>\n",
       "      <td>0.00</td>\n",
       "      <td>0.04</td>\n",
       "      <td>0.00</td>\n",
       "      <td>0.04</td>\n",
       "      <td>0.01</td>\n",
       "    </tr>\n",
       "    <tr>\n",
       "      <th>11</th>\n",
       "      <td>chc-lia-0002.smt2</td>\n",
       "      <td>NaN</td>\n",
       "      <td>77.0</td>\n",
       "      <td>NaN</td>\n",
       "      <td>100.0</td>\n",
       "      <td>50.0</td>\n",
       "      <td>1.0</td>\n",
       "      <td>102.0</td>\n",
       "      <td>102.0</td>\n",
       "      <td>NaN</td>\n",
       "      <td>...</td>\n",
       "      <td>4.83</td>\n",
       "      <td>NaN</td>\n",
       "      <td>117.67</td>\n",
       "      <td>2.63</td>\n",
       "      <td>3.90</td>\n",
       "      <td>34.43</td>\n",
       "      <td>7.89</td>\n",
       "      <td>0.00</td>\n",
       "      <td>7.89</td>\n",
       "      <td>0.19</td>\n",
       "    </tr>\n",
       "    <tr>\n",
       "      <th>12</th>\n",
       "      <td>chc-lia-0003.smt2</td>\n",
       "      <td>NaN</td>\n",
       "      <td>NaN</td>\n",
       "      <td>NaN</td>\n",
       "      <td>NaN</td>\n",
       "      <td>3.0</td>\n",
       "      <td>NaN</td>\n",
       "      <td>5.0</td>\n",
       "      <td>5.0</td>\n",
       "      <td>NaN</td>\n",
       "      <td>...</td>\n",
       "      <td>0.00</td>\n",
       "      <td>NaN</td>\n",
       "      <td>0.05</td>\n",
       "      <td>0.00</td>\n",
       "      <td>0.01</td>\n",
       "      <td>0.01</td>\n",
       "      <td>0.00</td>\n",
       "      <td>NaN</td>\n",
       "      <td>0.00</td>\n",
       "      <td>NaN</td>\n",
       "    </tr>\n",
       "    <tr>\n",
       "      <th>13</th>\n",
       "      <td>chc-lia-0004.smt2</td>\n",
       "      <td>NaN</td>\n",
       "      <td>656.0</td>\n",
       "      <td>1301.0</td>\n",
       "      <td>199.0</td>\n",
       "      <td>98.0</td>\n",
       "      <td>3.0</td>\n",
       "      <td>199.0</td>\n",
       "      <td>199.0</td>\n",
       "      <td>62.0</td>\n",
       "      <td>...</td>\n",
       "      <td>25.23</td>\n",
       "      <td>NaN</td>\n",
       "      <td>436.34</td>\n",
       "      <td>7.72</td>\n",
       "      <td>11.38</td>\n",
       "      <td>0.08</td>\n",
       "      <td>187.86</td>\n",
       "      <td>0.08</td>\n",
       "      <td>187.86</td>\n",
       "      <td>1.32</td>\n",
       "    </tr>\n",
       "  </tbody>\n",
       "</table>\n",
       "<p>5 rows × 65 columns</p>\n",
       "</div>"
      ],
      "text/plain": [
       "                index  SPACER_cex_depth  SPACER_cluster_out_of_gas  \\\n",
       "9   chc-lia-0000.smt2               NaN                        NaN   \n",
       "10  chc-lia-0001.smt2               NaN                        9.0   \n",
       "11  chc-lia-0002.smt2               NaN                       77.0   \n",
       "12  chc-lia-0003.smt2               NaN                        NaN   \n",
       "13  chc-lia-0004.smt2               NaN                      656.0   \n",
       "\n",
       "    SPACER_expand_pob_undef  SPACER_inductive_level  SPACER_max_cluster_size  \\\n",
       "9                       2.0                     NaN                      NaN   \n",
       "10                      NaN                    22.0                      5.0   \n",
       "11                      NaN                   100.0                     50.0   \n",
       "12                      NaN                     NaN                      3.0   \n",
       "13                   1301.0                   199.0                     98.0   \n",
       "\n",
       "    SPACER_max_cvx_reduced_dim  SPACER_max_depth  SPACER_max_query_lvl  \\\n",
       "9                          NaN               1.0                   1.0   \n",
       "10                         1.0              24.0                  24.0   \n",
       "11                         1.0             102.0                 102.0   \n",
       "12                         NaN               5.0                   5.0   \n",
       "13                         3.0             199.0                 199.0   \n",
       "\n",
       "    SPACER_need_sage  ...  time_spacer_solve_propagate  \\\n",
       "9                NaN  ...                         0.00   \n",
       "10               NaN  ...                         0.02   \n",
       "11               NaN  ...                         4.83   \n",
       "12               NaN  ...                         0.00   \n",
       "13              62.0  ...                        25.23   \n",
       "\n",
       "    time_spacer_solve_pt_must_reachable  time_spacer_solve_reach  \\\n",
       "9                                   NaN                     0.00   \n",
       "10                                  NaN                     0.13   \n",
       "11                                  NaN                   117.67   \n",
       "12                                  NaN                     0.05   \n",
       "13                                  NaN                   436.34   \n",
       "\n",
       "    time_spacer_solve_reach_children  time_spacer_solve_reach_cluster  \\\n",
       "9                               0.00                             0.00   \n",
       "10                              0.01                             0.02   \n",
       "11                              2.63                             3.90   \n",
       "12                              0.00                             0.01   \n",
       "13                              7.72                            11.38   \n",
       "\n",
       "    time_spacer_solve_reach_gen_bool_ind  time_spacer_solve_reach_gen_merge  \\\n",
       "9                                   0.00                               0.00   \n",
       "10                                  0.00                               0.04   \n",
       "11                                 34.43                               7.89   \n",
       "12                                  0.01                               0.00   \n",
       "13                                  0.08                             187.86   \n",
       "\n",
       "    time_spacer_solve_reach_gen_merge_cvx_cls  \\\n",
       "9                                         NaN   \n",
       "10                                       0.00   \n",
       "11                                       0.00   \n",
       "12                                        NaN   \n",
       "13                                       0.08   \n",
       "\n",
       "    time_spacer_solve_reach_gen_wide  time_spacer_solve_reach_is_reach  \n",
       "9                               0.00                              0.00  \n",
       "10                              0.04                              0.01  \n",
       "11                              7.89                              0.19  \n",
       "12                              0.00                               NaN  \n",
       "13                            187.86                              1.32  \n",
       "\n",
       "[5 rows x 65 columns]"
      ]
     },
     "execution_count": 4,
     "metadata": {},
     "output_type": "execute_result"
    }
   ],
   "source": [
    "fname='GSpacer.csv'\n",
    "csm = pd.read_csv(fname)\n",
    "csm = csm[csm[\"index\"].str.startswith('chc-lia')]\n",
    "# move timeout and unknown to maximal time\n",
    "csm['time'].fillna(value=900, inplace=True)\n",
    "csm['result'].fillna(value=\"timeout\", inplace=True)\n",
    "# show a snapshot of data for visual validation\n",
    "csm.head()"
   ]
  },
  {
   "cell_type": "code",
   "execution_count": 5,
   "metadata": {},
   "outputs": [
    {
     "data": {
      "text/html": [
       "<div>\n",
       "<style scoped>\n",
       "    .dataframe tbody tr th:only-of-type {\n",
       "        vertical-align: middle;\n",
       "    }\n",
       "\n",
       "    .dataframe tbody tr th {\n",
       "        vertical-align: top;\n",
       "    }\n",
       "\n",
       "    .dataframe thead th {\n",
       "        text-align: right;\n",
       "    }\n",
       "</style>\n",
       "<table border=\"1\" class=\"dataframe\">\n",
       "  <thead>\n",
       "    <tr style=\"text-align: right;\">\n",
       "      <th></th>\n",
       "      <th>index</th>\n",
       "    </tr>\n",
       "    <tr>\n",
       "      <th>result</th>\n",
       "      <th></th>\n",
       "    </tr>\n",
       "  </thead>\n",
       "  <tbody>\n",
       "    <tr>\n",
       "      <th>sat</th>\n",
       "      <td>410</td>\n",
       "    </tr>\n",
       "    <tr>\n",
       "      <th>timeout</th>\n",
       "      <td>107</td>\n",
       "    </tr>\n",
       "    <tr>\n",
       "      <th>unsat</th>\n",
       "      <td>148</td>\n",
       "    </tr>\n",
       "  </tbody>\n",
       "</table>\n",
       "</div>"
      ],
      "text/plain": [
       "         index\n",
       "result        \n",
       "sat        410\n",
       "timeout    107\n",
       "unsat      148"
      ]
     },
     "execution_count": 5,
     "metadata": {},
     "output_type": "execute_result"
    }
   ],
   "source": [
    "# quick overview of solved/unsolved instances\n",
    "csm[['result','index']].groupby(['result']).count()"
   ]
  },
  {
   "cell_type": "markdown",
   "metadata": {},
   "source": [
    "# Running without conjecture rule"
   ]
  },
  {
   "cell_type": "code",
   "execution_count": 7,
   "metadata": {},
   "outputs": [
    {
     "data": {
      "text/html": [
       "<div>\n",
       "<style scoped>\n",
       "    .dataframe tbody tr th:only-of-type {\n",
       "        vertical-align: middle;\n",
       "    }\n",
       "\n",
       "    .dataframe tbody tr th {\n",
       "        vertical-align: top;\n",
       "    }\n",
       "\n",
       "    .dataframe thead th {\n",
       "        text-align: right;\n",
       "    }\n",
       "</style>\n",
       "<table border=\"1\" class=\"dataframe\">\n",
       "  <thead>\n",
       "    <tr style=\"text-align: right;\">\n",
       "      <th></th>\n",
       "      <th>index</th>\n",
       "    </tr>\n",
       "    <tr>\n",
       "      <th>result</th>\n",
       "      <th></th>\n",
       "    </tr>\n",
       "  </thead>\n",
       "  <tbody>\n",
       "    <tr>\n",
       "      <th>sat</th>\n",
       "      <td>405</td>\n",
       "    </tr>\n",
       "    <tr>\n",
       "      <th>timeout</th>\n",
       "      <td>107</td>\n",
       "    </tr>\n",
       "    <tr>\n",
       "      <th>unknown</th>\n",
       "      <td>1</td>\n",
       "    </tr>\n",
       "    <tr>\n",
       "      <th>unsat</th>\n",
       "      <td>152</td>\n",
       "    </tr>\n",
       "  </tbody>\n",
       "</table>\n",
       "</div>"
      ],
      "text/plain": [
       "         index\n",
       "result        \n",
       "sat        405\n",
       "timeout    107\n",
       "unknown      1\n",
       "unsat      152"
      ]
     },
     "execution_count": 7,
     "metadata": {},
     "output_type": "execute_result"
    }
   ],
   "source": [
    "fname = \"csm-noconj.csv\"\n",
    "csmnoconj = pd.read_csv(fname)\n",
    "csmnoconj['time'].fillna(value=900, inplace=True)\n",
    "csmnoconj['result'].fillna(value=\"timeout\", inplace=True)\n",
    "csmnoconj[['result','index']].groupby(['result']).count()"
   ]
  },
  {
   "cell_type": "code",
   "execution_count": 8,
   "metadata": {
    "scrolled": true
   },
   "outputs": [
    {
     "data": {
      "text/html": [
       "<div>\n",
       "<style scoped>\n",
       "    .dataframe tbody tr th:only-of-type {\n",
       "        vertical-align: middle;\n",
       "    }\n",
       "\n",
       "    .dataframe tbody tr th {\n",
       "        vertical-align: top;\n",
       "    }\n",
       "\n",
       "    .dataframe thead th {\n",
       "        text-align: right;\n",
       "    }\n",
       "</style>\n",
       "<table border=\"1\" class=\"dataframe\">\n",
       "  <thead>\n",
       "    <tr style=\"text-align: right;\">\n",
       "      <th></th>\n",
       "      <th>index</th>\n",
       "      <th>SPACER_cex_depth_x</th>\n",
       "      <th>SPACER_cluster_out_of_gas_x</th>\n",
       "      <th>SPACER_expand_pob_undef_x</th>\n",
       "      <th>SPACER_inductive_level_x</th>\n",
       "      <th>SPACER_max_cluster_size_x</th>\n",
       "      <th>SPACER_max_cvx_reduced_dim_x</th>\n",
       "      <th>SPACER_max_depth_x</th>\n",
       "      <th>SPACER_max_query_lvl_x</th>\n",
       "      <th>SPACER_need_sage_x</th>\n",
       "      <th>...</th>\n",
       "      <th>time_spacer_solve_y</th>\n",
       "      <th>time_spacer_solve_propagate_y</th>\n",
       "      <th>time_spacer_solve_reach_y</th>\n",
       "      <th>time_spacer_solve_reach_children_y</th>\n",
       "      <th>time_spacer_solve_reach_cluster_y</th>\n",
       "      <th>time_spacer_solve_reach_gen_bool_ind_y</th>\n",
       "      <th>time_spacer_solve_reach_gen_merge_y</th>\n",
       "      <th>time_spacer_solve_reach_gen_merge_cvx_cls_y</th>\n",
       "      <th>time_spacer_solve_reach_gen_wide_y</th>\n",
       "      <th>time_spacer_solve_reach_is_reach_y</th>\n",
       "    </tr>\n",
       "  </thead>\n",
       "  <tbody>\n",
       "  </tbody>\n",
       "</table>\n",
       "<p>0 rows × 125 columns</p>\n",
       "</div>"
      ],
      "text/plain": [
       "Empty DataFrame\n",
       "Columns: [index, SPACER_cex_depth_x, SPACER_cluster_out_of_gas_x, SPACER_expand_pob_undef_x, SPACER_inductive_level_x, SPACER_max_cluster_size_x, SPACER_max_cvx_reduced_dim_x, SPACER_max_depth_x, SPACER_max_query_lvl_x, SPACER_need_sage_x, SPACER_num_abstractions, SPACER_num_abstractions_failed, SPACER_num_abstractions_success, SPACER_num_active_lemmas_x, SPACER_num_cant_abstract_x, SPACER_num_ctp_blocked_x, SPACER_num_dim_reduction_success_x, SPACER_num_invariants_x, SPACER_num_is_invariant_x, SPACER_num_lemma_jumped_x, SPACER_num_lemmas_x, SPACER_num_mbp_failed_x, SPACER_num_merge_gen_x, SPACER_num_merge_gen_failed_x, SPACER_num_merge_gen_success_x, SPACER_num_no_over_approximate_x, SPACER_num_non_lin_x, SPACER_num_pobs_x, SPACER_num_propagations_x, SPACER_num_queries_x, SPACER_num_reach_queries_x, SPACER_num_refinements_x, SPACER_num_reuse_reach_facts_x, SPACER_num_sync_cvx_cls_x, SPACER_num_under_approximations_x, SPACER_pob_out_of_gas_x, SPACER_wide_attmpts_x, SPACER_wide_success_x, max_memory_x, memory_x, result_x, time_x, time_iuc_solver_get_iuc_x, time_iuc_solver_get_iuc_hyp_reduce1_x, time_iuc_solver_get_iuc_hyp_reduce2_x, time_iuc_solver_get_iuc_learn_core_x, time_pool_solver_proof_x, time_pool_solver_smt_total_x, time_pool_solver_smt_total_sat_x, time_pool_solver_smt_total_undef_x, time_spacer_ctp_x, time_spacer_init_rules_x, time_spacer_init_rules_pt_init_x, time_spacer_mbp_x, time_spacer_solve_x, time_spacer_solve_propagate_x, time_spacer_solve_pt_must_reachable, time_spacer_solve_reach_x, time_spacer_solve_reach_children_x, time_spacer_solve_reach_cluster_x, time_spacer_solve_reach_gen_bool_ind_x, time_spacer_solve_reach_gen_merge_x, time_spacer_solve_reach_gen_merge_cvx_cls_x, time_spacer_solve_reach_gen_wide_x, time_spacer_solve_reach_is_reach_x, SPACER_cex_depth_y, SPACER_cluster_out_of_gas_y, SPACER_expand_pob_undef_y, SPACER_inductive_level_y, SPACER_max_cluster_size_y, SPACER_max_cvx_reduced_dim_y, SPACER_max_depth_y, SPACER_max_query_lvl_y, SPACER_need_sage_y, SPACER_num_active_lemmas_y, SPACER_num_cant_abstract_y, SPACER_num_ctp_blocked_y, SPACER_num_dim_reduction_success_y, SPACER_num_invariants_y, SPACER_num_is_invariant_y, SPACER_num_lemma_jumped_y, SPACER_num_lemmas_y, SPACER_num_mbp_failed_y, SPACER_num_merge_gen_y, SPACER_num_merge_gen_failed_y, SPACER_num_merge_gen_success_y, SPACER_num_no_over_approximate_y, SPACER_num_non_lin_y, SPACER_num_pobs_y, SPACER_num_propagations_y, SPACER_num_queries_y, SPACER_num_reach_queries_y, SPACER_num_refinements_y, SPACER_num_reuse_reach_facts_y, SPACER_num_sync_cvx_cls_y, SPACER_num_under_approximations_y, SPACER_pob_out_of_gas_y, SPACER_wide_attmpts_y, SPACER_wide_success_y, max_memory_y, ...]\n",
       "Index: []\n",
       "\n",
       "[0 rows x 125 columns]"
      ]
     },
     "execution_count": 8,
     "metadata": {},
     "output_type": "execute_result"
    }
   ],
   "source": [
    "comb = pd.merge(csm, csmnoconj, on = \"index\", how = \"inner\")\n",
    "#sanity check. Make sure they don't disagree\n",
    "comb.query('(result_x == \"sat\" & result_y == \"unsat\") | (result_y == \"sat\" & result_x == \"unsat\")')"
   ]
  },
  {
   "cell_type": "code",
   "execution_count": 9,
   "metadata": {},
   "outputs": [
    {
     "data": {
      "text/html": [
       "<div>\n",
       "<style scoped>\n",
       "    .dataframe tbody tr th:only-of-type {\n",
       "        vertical-align: middle;\n",
       "    }\n",
       "\n",
       "    .dataframe tbody tr th {\n",
       "        vertical-align: top;\n",
       "    }\n",
       "\n",
       "    .dataframe thead th {\n",
       "        text-align: right;\n",
       "    }\n",
       "</style>\n",
       "<table border=\"1\" class=\"dataframe\">\n",
       "  <thead>\n",
       "    <tr style=\"text-align: right;\">\n",
       "      <th></th>\n",
       "      <th></th>\n",
       "      <th>index</th>\n",
       "    </tr>\n",
       "    <tr>\n",
       "      <th>result_x</th>\n",
       "      <th>result_y</th>\n",
       "      <th></th>\n",
       "    </tr>\n",
       "  </thead>\n",
       "  <tbody>\n",
       "    <tr>\n",
       "      <th rowspan=\"2\" valign=\"top\">sat</th>\n",
       "      <th>sat</th>\n",
       "      <td>399</td>\n",
       "    </tr>\n",
       "    <tr>\n",
       "      <th>timeout</th>\n",
       "      <td>11</td>\n",
       "    </tr>\n",
       "    <tr>\n",
       "      <th rowspan=\"4\" valign=\"top\">timeout</th>\n",
       "      <th>sat</th>\n",
       "      <td>6</td>\n",
       "    </tr>\n",
       "    <tr>\n",
       "      <th>timeout</th>\n",
       "      <td>94</td>\n",
       "    </tr>\n",
       "    <tr>\n",
       "      <th>unknown</th>\n",
       "      <td>1</td>\n",
       "    </tr>\n",
       "    <tr>\n",
       "      <th>unsat</th>\n",
       "      <td>6</td>\n",
       "    </tr>\n",
       "    <tr>\n",
       "      <th rowspan=\"2\" valign=\"top\">unsat</th>\n",
       "      <th>timeout</th>\n",
       "      <td>2</td>\n",
       "    </tr>\n",
       "    <tr>\n",
       "      <th>unsat</th>\n",
       "      <td>146</td>\n",
       "    </tr>\n",
       "  </tbody>\n",
       "</table>\n",
       "</div>"
      ],
      "text/plain": [
       "                   index\n",
       "result_x result_y       \n",
       "sat      sat         399\n",
       "         timeout      11\n",
       "timeout  sat           6\n",
       "         timeout      94\n",
       "         unknown       1\n",
       "         unsat         6\n",
       "unsat    timeout       2\n",
       "         unsat       146"
      ]
     },
     "execution_count": 9,
     "metadata": {},
     "output_type": "execute_result"
    }
   ],
   "source": [
    "comb[['result_x', 'result_y', 'index']].groupby(['result_x', 'result_y']).count()"
   ]
  },
  {
   "cell_type": "code",
   "execution_count": 10,
   "metadata": {},
   "outputs": [
    {
     "name": "stdout",
     "output_type": "stream",
     "text": [
      "len(A): 410 \tlen(B): 405\n",
      "No. values 399\n",
      "Min val, A: 1.0 \tB: 1.0\n",
      "Max val, A: 199.0 \tB: 143.0\n",
      "Avg val, A: 17.53 \tB: 17.71\n"
     ]
    },
    {
     "data": {
      "image/png": "[encoded data removed]",
      "text/plain": [
       "<Figure size 432x288 with 1 Axes>"
      ]
     },
     "metadata": {},
     "output_type": "display_data"
    }
   ],
   "source": [
    "def preprocess(df, sat):  \n",
    "    if sat == True:\n",
    "        return df.query('result == \"sat\"')\n",
    "    else:\n",
    "        return df.query('result == \"unsat\"')\n",
    "        \n",
    "def compare_values(columns, df_A, df_B):\n",
    "    vals_A = df_A[['index'] + list(columns)]\n",
    "    vals_B = df_B[['index'] + list(columns)]\n",
    "    merged = vals_A.merge(vals_B, how='inner', left_index=True, on='index')\n",
    "    return merged\n",
    "\n",
    "def scatter_values(column, df_A, df_B):\n",
    "    vals = compare_values((column, ), df_A, df_B)\n",
    "    xlabel = column + '_x'\n",
    "    ylabel = column + '_y'\n",
    "    \n",
    "    xs = vals[xlabel]\n",
    "    ys = vals[ylabel]\n",
    "    \n",
    "    print('len(A):', len(df_A), '\\tlen(B):', len(df_B))\n",
    "    print('No. values', len(xs))\n",
    "    print('Min val, A:', min(xs), '\\tB:', min(ys))\n",
    "    print('Max val, A:', max(xs), '\\tB:', max(ys))\n",
    "    print('Avg val, A:', \"{:0.2f}\".format(np.mean(xs)), '\\tB:', \"{:0.2f}\".format(np.mean(ys)))\n",
    "    \n",
    "    min_val = min(0, min(xs), min(ys))\n",
    "    max_val = max(max(xs), max(ys))\n",
    "    plt.xlim(min_val, max_val)\n",
    "    plt.ylim(min_val, max_val)\n",
    "    \n",
    "    plt.scatter(xs, ys)\n",
    "    plt.gca().set_aspect('equal', adjustable='box')\n",
    "    plt.xlabel(column + '_A')\n",
    "    plt.ylabel(column + '_B')\n",
    "    \n",
    "    mid_x = np.linspace(min_val, max_val, 2)\n",
    "    mid_y = mid_x\n",
    "    plt.plot(mid_x, mid_y, 'r-')\n",
    "    plt.title(column)\n",
    "    \n",
    "    plt.rcParams['figure.dpi'] = 160\n",
    "    plt.draw()\n",
    "    \n",
    "\n",
    "chc_csm = preprocess(csm, True)\n",
    "chc_base = preprocess(csmnoconj, True)\n",
    "\n",
    "scatter_values('SPACER_max_depth', chc_csm, chc_base)"
   ]
  },
  {
   "cell_type": "code",
   "execution_count": 11,
   "metadata": {},
   "outputs": [
    {
     "name": "stdout",
     "output_type": "stream",
     "text": [
      "len(A): 410 \tlen(B): 405\n",
      "No. values 399\n",
      "Min val, A: 0.0 \tB: 0.0\n",
      "Max val, A: 588.28 \tB: 544.04\n",
      "Avg val, A: 41.63 \tB: 40.96\n"
     ]
    },
    {
     "data": {
      "image/png": "[encoded data removed]",
      "text/plain": [
       "<Figure size 960x640 with 1 Axes>"
      ]
     },
     "metadata": {},
     "output_type": "display_data"
    }
   ],
   "source": [
    "scatter_values('time', chc_csm, chc_base)"
   ]
  },
  {
   "cell_type": "markdown",
   "metadata": {},
   "source": [
    "# Running without concretize rule"
   ]
  },
  {
   "cell_type": "code",
   "execution_count": 13,
   "metadata": {},
   "outputs": [
    {
     "data": {
      "text/html": [
       "<div>\n",
       "<style scoped>\n",
       "    .dataframe tbody tr th:only-of-type {\n",
       "        vertical-align: middle;\n",
       "    }\n",
       "\n",
       "    .dataframe tbody tr th {\n",
       "        vertical-align: top;\n",
       "    }\n",
       "\n",
       "    .dataframe thead th {\n",
       "        text-align: right;\n",
       "    }\n",
       "</style>\n",
       "<table border=\"1\" class=\"dataframe\">\n",
       "  <thead>\n",
       "    <tr style=\"text-align: right;\">\n",
       "      <th></th>\n",
       "      <th>index</th>\n",
       "    </tr>\n",
       "    <tr>\n",
       "      <th>result</th>\n",
       "      <th></th>\n",
       "    </tr>\n",
       "  </thead>\n",
       "  <tbody>\n",
       "    <tr>\n",
       "      <th>sat</th>\n",
       "      <td>410</td>\n",
       "    </tr>\n",
       "    <tr>\n",
       "      <th>timeout</th>\n",
       "      <td>101</td>\n",
       "    </tr>\n",
       "    <tr>\n",
       "      <th>unsat</th>\n",
       "      <td>154</td>\n",
       "    </tr>\n",
       "  </tbody>\n",
       "</table>\n",
       "</div>"
      ],
      "text/plain": [
       "         index\n",
       "result        \n",
       "sat        410\n",
       "timeout    101\n",
       "unsat      154"
      ]
     },
     "execution_count": 13,
     "metadata": {},
     "output_type": "execute_result"
    }
   ],
   "source": [
    "fname = \"csmnoconcr.csv\"\n",
    "csmnoconcr = pd.read_csv(fname)\n",
    "csmnoconcr['time'].fillna(value=900, inplace=True)\n",
    "csmnoconcr['result'].fillna(value=\"timeout\", inplace=True)\n",
    "csmnoconcr[['result','index']].groupby(['result']).count()"
   ]
  },
  {
   "cell_type": "code",
   "execution_count": 14,
   "metadata": {},
   "outputs": [
    {
     "data": {
      "text/html": [
       "<div>\n",
       "<style scoped>\n",
       "    .dataframe tbody tr th:only-of-type {\n",
       "        vertical-align: middle;\n",
       "    }\n",
       "\n",
       "    .dataframe tbody tr th {\n",
       "        vertical-align: top;\n",
       "    }\n",
       "\n",
       "    .dataframe thead th {\n",
       "        text-align: right;\n",
       "    }\n",
       "</style>\n",
       "<table border=\"1\" class=\"dataframe\">\n",
       "  <thead>\n",
       "    <tr style=\"text-align: right;\">\n",
       "      <th></th>\n",
       "      <th>index</th>\n",
       "      <th>SPACER_cex_depth_x</th>\n",
       "      <th>SPACER_cluster_out_of_gas_x</th>\n",
       "      <th>SPACER_expand_pob_undef_x</th>\n",
       "      <th>SPACER_inductive_level_x</th>\n",
       "      <th>SPACER_max_cluster_size_x</th>\n",
       "      <th>SPACER_max_cvx_reduced_dim_x</th>\n",
       "      <th>SPACER_max_depth_x</th>\n",
       "      <th>SPACER_max_query_lvl_x</th>\n",
       "      <th>SPACER_need_sage_x</th>\n",
       "      <th>...</th>\n",
       "      <th>time_spacer_solve_y</th>\n",
       "      <th>time_spacer_solve_propagate_y</th>\n",
       "      <th>time_spacer_solve_reach_y</th>\n",
       "      <th>time_spacer_solve_reach_children_y</th>\n",
       "      <th>time_spacer_solve_reach_cluster_y</th>\n",
       "      <th>time_spacer_solve_reach_gen_bool_ind_y</th>\n",
       "      <th>time_spacer_solve_reach_gen_merge_y</th>\n",
       "      <th>time_spacer_solve_reach_gen_merge_cvx_cls_y</th>\n",
       "      <th>time_spacer_solve_reach_gen_wide_y</th>\n",
       "      <th>time_spacer_solve_reach_is_reach_y</th>\n",
       "    </tr>\n",
       "  </thead>\n",
       "  <tbody>\n",
       "  </tbody>\n",
       "</table>\n",
       "<p>0 rows × 127 columns</p>\n",
       "</div>"
      ],
      "text/plain": [
       "Empty DataFrame\n",
       "Columns: [index, SPACER_cex_depth_x, SPACER_cluster_out_of_gas_x, SPACER_expand_pob_undef_x, SPACER_inductive_level_x, SPACER_max_cluster_size_x, SPACER_max_cvx_reduced_dim_x, SPACER_max_depth_x, SPACER_max_query_lvl_x, SPACER_need_sage_x, SPACER_num_abstractions_x, SPACER_num_abstractions_failed_x, SPACER_num_abstractions_success_x, SPACER_num_active_lemmas_x, SPACER_num_cant_abstract_x, SPACER_num_ctp_blocked_x, SPACER_num_dim_reduction_success_x, SPACER_num_invariants_x, SPACER_num_is_invariant_x, SPACER_num_lemma_jumped_x, SPACER_num_lemmas_x, SPACER_num_mbp_failed_x, SPACER_num_merge_gen_x, SPACER_num_merge_gen_failed_x, SPACER_num_merge_gen_success_x, SPACER_num_no_over_approximate_x, SPACER_num_non_lin_x, SPACER_num_pobs_x, SPACER_num_propagations_x, SPACER_num_queries_x, SPACER_num_reach_queries_x, SPACER_num_refinements_x, SPACER_num_reuse_reach_facts_x, SPACER_num_sync_cvx_cls_x, SPACER_num_under_approximations, SPACER_pob_out_of_gas_x, SPACER_wide_attmpts_x, SPACER_wide_success_x, max_memory_x, memory_x, result_x, time_x, time_iuc_solver_get_iuc_x, time_iuc_solver_get_iuc_hyp_reduce1_x, time_iuc_solver_get_iuc_hyp_reduce2_x, time_iuc_solver_get_iuc_learn_core_x, time_pool_solver_proof_x, time_pool_solver_smt_total_x, time_pool_solver_smt_total_sat_x, time_pool_solver_smt_total_undef_x, time_spacer_ctp_x, time_spacer_init_rules_x, time_spacer_init_rules_pt_init_x, time_spacer_mbp_x, time_spacer_solve_x, time_spacer_solve_propagate_x, time_spacer_solve_pt_must_reachable, time_spacer_solve_reach_x, time_spacer_solve_reach_children_x, time_spacer_solve_reach_cluster_x, time_spacer_solve_reach_gen_bool_ind_x, time_spacer_solve_reach_gen_merge_x, time_spacer_solve_reach_gen_merge_cvx_cls_x, time_spacer_solve_reach_gen_wide_x, time_spacer_solve_reach_is_reach_x, SPACER_cex_depth_y, SPACER_cluster_out_of_gas_y, SPACER_expand_pob_undef_y, SPACER_inductive_level_y, SPACER_max_cluster_size_y, SPACER_max_cvx_reduced_dim_y, SPACER_max_depth_y, SPACER_max_query_lvl_y, SPACER_need_sage_y, SPACER_num_abstractions_y, SPACER_num_abstractions_failed_y, SPACER_num_abstractions_success_y, SPACER_num_active_lemmas_y, SPACER_num_cant_abstract_y, SPACER_num_ctp_blocked_y, SPACER_num_dim_reduction_success_y, SPACER_num_invariants_y, SPACER_num_is_invariant_y, SPACER_num_lemma_jumped_y, SPACER_num_lemmas_y, SPACER_num_mbp_failed_y, SPACER_num_merge_gen_y, SPACER_num_merge_gen_failed_y, SPACER_num_merge_gen_success_y, SPACER_num_no_over_approximate_y, SPACER_num_non_lin_y, SPACER_num_pobs_y, SPACER_num_propagations_y, SPACER_num_queries_y, SPACER_num_reach_queries_y, SPACER_num_refinements_y, SPACER_num_reuse_reach_facts_y, SPACER_num_sync_cvx_cls_y, SPACER_pob_out_of_gas_y, SPACER_wide_attmpts_y, ...]\n",
       "Index: []\n",
       "\n",
       "[0 rows x 127 columns]"
      ]
     },
     "execution_count": 14,
     "metadata": {},
     "output_type": "execute_result"
    }
   ],
   "source": [
    "comb = pd.merge(csm, csmnoconcr, on = \"index\", how = \"inner\")\n",
    "#sanity check. Make sure they don't disagree\n",
    "comb.query('(result_x == \"sat\" & result_y == \"unsat\") | (result_y == \"sat\" & result_x == \"unsat\")')"
   ]
  },
  {
   "cell_type": "code",
   "execution_count": 15,
   "metadata": {},
   "outputs": [
    {
     "data": {
      "text/html": [
       "<div>\n",
       "<style scoped>\n",
       "    .dataframe tbody tr th:only-of-type {\n",
       "        vertical-align: middle;\n",
       "    }\n",
       "\n",
       "    .dataframe tbody tr th {\n",
       "        vertical-align: top;\n",
       "    }\n",
       "\n",
       "    .dataframe thead th {\n",
       "        text-align: right;\n",
       "    }\n",
       "</style>\n",
       "<table border=\"1\" class=\"dataframe\">\n",
       "  <thead>\n",
       "    <tr style=\"text-align: right;\">\n",
       "      <th></th>\n",
       "      <th></th>\n",
       "      <th>index</th>\n",
       "    </tr>\n",
       "    <tr>\n",
       "      <th>result_x</th>\n",
       "      <th>result_y</th>\n",
       "      <th></th>\n",
       "    </tr>\n",
       "  </thead>\n",
       "  <tbody>\n",
       "    <tr>\n",
       "      <th rowspan=\"2\" valign=\"top\">sat</th>\n",
       "      <th>sat</th>\n",
       "      <td>400</td>\n",
       "    </tr>\n",
       "    <tr>\n",
       "      <th>timeout</th>\n",
       "      <td>10</td>\n",
       "    </tr>\n",
       "    <tr>\n",
       "      <th rowspan=\"3\" valign=\"top\">timeout</th>\n",
       "      <th>sat</th>\n",
       "      <td>10</td>\n",
       "    </tr>\n",
       "    <tr>\n",
       "      <th>timeout</th>\n",
       "      <td>91</td>\n",
       "    </tr>\n",
       "    <tr>\n",
       "      <th>unsat</th>\n",
       "      <td>6</td>\n",
       "    </tr>\n",
       "    <tr>\n",
       "      <th>unsat</th>\n",
       "      <th>unsat</th>\n",
       "      <td>148</td>\n",
       "    </tr>\n",
       "  </tbody>\n",
       "</table>\n",
       "</div>"
      ],
      "text/plain": [
       "                   index\n",
       "result_x result_y       \n",
       "sat      sat         400\n",
       "         timeout      10\n",
       "timeout  sat          10\n",
       "         timeout      91\n",
       "         unsat         6\n",
       "unsat    unsat       148"
      ]
     },
     "execution_count": 15,
     "metadata": {},
     "output_type": "execute_result"
    }
   ],
   "source": [
    "comb[['result_x', 'result_y', 'index']].groupby(['result_x', 'result_y']).count()"
   ]
  },
  {
   "cell_type": "code",
   "execution_count": 16,
   "metadata": {},
   "outputs": [
    {
     "name": "stdout",
     "output_type": "stream",
     "text": [
      "len(A): 410 \tlen(B): 410\n",
      "No. values 400\n",
      "Min val, A: 1.0 \tB: 1.0\n",
      "Max val, A: 199.0 \tB: 199.0\n",
      "Avg val, A: 18.20 \tB: 18.46\n"
     ]
    },
    {
     "data": {
      "image/png": "[encoded data removed]",
      "text/plain": [
       "<Figure size 960x640 with 1 Axes>"
      ]
     },
     "metadata": {},
     "output_type": "display_data"
    }
   ],
   "source": [
    "chc_csm = preprocess(csm, True)\n",
    "chc_csm_no_concr = preprocess(csmnoconcr, True)\n",
    "\n",
    "scatter_values('SPACER_max_depth', chc_csm, chc_csm_no_concr)"
   ]
  },
  {
   "cell_type": "code",
   "execution_count": 17,
   "metadata": {},
   "outputs": [
    {
     "name": "stdout",
     "output_type": "stream",
     "text": [
      "len(A): 410 \tlen(B): 410\n",
      "No. values 400\n",
      "Min val, A: 0.0 \tB: 0.0\n",
      "Max val, A: 588.28 \tB: 488.41\n",
      "Avg val, A: 46.85 \tB: 38.76\n"
     ]
    },
    {
     "data": {
      "image/png": "[encoded data removed]",
      "text/plain": [
       "<Figure size 960x640 with 1 Axes>"
      ]
     },
     "metadata": {},
     "output_type": "display_data"
    }
   ],
   "source": [
    "scatter_values('time', chc_csm, chc_csm_no_concr)"
   ]
  },
  {
   "cell_type": "markdown",
   "metadata": {},
   "source": [
    "# Comparison with neither concretize nor conjecture"
   ]
  },
  {
   "cell_type": "code",
   "execution_count": 19,
   "metadata": {},
   "outputs": [
    {
     "data": {
      "text/html": [
       "<div>\n",
       "<style scoped>\n",
       "    .dataframe tbody tr th:only-of-type {\n",
       "        vertical-align: middle;\n",
       "    }\n",
       "\n",
       "    .dataframe tbody tr th {\n",
       "        vertical-align: top;\n",
       "    }\n",
       "\n",
       "    .dataframe thead th {\n",
       "        text-align: right;\n",
       "    }\n",
       "</style>\n",
       "<table border=\"1\" class=\"dataframe\">\n",
       "  <thead>\n",
       "    <tr style=\"text-align: right;\">\n",
       "      <th></th>\n",
       "      <th>index</th>\n",
       "    </tr>\n",
       "    <tr>\n",
       "      <th>result</th>\n",
       "      <th></th>\n",
       "    </tr>\n",
       "  </thead>\n",
       "  <tbody>\n",
       "    <tr>\n",
       "      <th>sat</th>\n",
       "      <td>398</td>\n",
       "    </tr>\n",
       "    <tr>\n",
       "      <th>timeout</th>\n",
       "      <td>114</td>\n",
       "    </tr>\n",
       "    <tr>\n",
       "      <th>unknown</th>\n",
       "      <td>1</td>\n",
       "    </tr>\n",
       "    <tr>\n",
       "      <th>unsat</th>\n",
       "      <td>152</td>\n",
       "    </tr>\n",
       "  </tbody>\n",
       "</table>\n",
       "</div>"
      ],
      "text/plain": [
       "         index\n",
       "result        \n",
       "sat        398\n",
       "timeout    114\n",
       "unknown      1\n",
       "unsat      152"
      ]
     },
     "execution_count": 19,
     "metadata": {},
     "output_type": "execute_result"
    }
   ],
   "source": [
    "fname = \"csm-nocc.csv\"\n",
    "csmnocc = pd.read_csv(fname)\n",
    "csmnocc['time'].fillna(value=900, inplace=True)\n",
    "csmnocc['result'].fillna(value=\"timeout\", inplace=True)\n",
    "csmnocc[['result','index']].groupby(['result']).count()"
   ]
  },
  {
   "cell_type": "code",
   "execution_count": 20,
   "metadata": {},
   "outputs": [
    {
     "data": {
      "text/html": [
       "<div>\n",
       "<style scoped>\n",
       "    .dataframe tbody tr th:only-of-type {\n",
       "        vertical-align: middle;\n",
       "    }\n",
       "\n",
       "    .dataframe tbody tr th {\n",
       "        vertical-align: top;\n",
       "    }\n",
       "\n",
       "    .dataframe thead th {\n",
       "        text-align: right;\n",
       "    }\n",
       "</style>\n",
       "<table border=\"1\" class=\"dataframe\">\n",
       "  <thead>\n",
       "    <tr style=\"text-align: right;\">\n",
       "      <th></th>\n",
       "      <th>index</th>\n",
       "      <th>SPACER_cex_depth_x</th>\n",
       "      <th>SPACER_cluster_out_of_gas_x</th>\n",
       "      <th>SPACER_expand_pob_undef_x</th>\n",
       "      <th>SPACER_inductive_level_x</th>\n",
       "      <th>SPACER_max_cluster_size_x</th>\n",
       "      <th>SPACER_max_cvx_reduced_dim_x</th>\n",
       "      <th>SPACER_max_depth_x</th>\n",
       "      <th>SPACER_max_query_lvl_x</th>\n",
       "      <th>SPACER_need_sage_x</th>\n",
       "      <th>...</th>\n",
       "      <th>time_spacer_solve_y</th>\n",
       "      <th>time_spacer_solve_propagate_y</th>\n",
       "      <th>time_spacer_solve_reach_y</th>\n",
       "      <th>time_spacer_solve_reach_children_y</th>\n",
       "      <th>time_spacer_solve_reach_cluster_y</th>\n",
       "      <th>time_spacer_solve_reach_gen_bool_ind_y</th>\n",
       "      <th>time_spacer_solve_reach_gen_merge_y</th>\n",
       "      <th>time_spacer_solve_reach_gen_merge_cvx_cls_y</th>\n",
       "      <th>time_spacer_solve_reach_gen_wide_y</th>\n",
       "      <th>time_spacer_solve_reach_is_reach_y</th>\n",
       "    </tr>\n",
       "  </thead>\n",
       "  <tbody>\n",
       "  </tbody>\n",
       "</table>\n",
       "<p>0 rows × 124 columns</p>\n",
       "</div>"
      ],
      "text/plain": [
       "Empty DataFrame\n",
       "Columns: [index, SPACER_cex_depth_x, SPACER_cluster_out_of_gas_x, SPACER_expand_pob_undef_x, SPACER_inductive_level_x, SPACER_max_cluster_size_x, SPACER_max_cvx_reduced_dim_x, SPACER_max_depth_x, SPACER_max_query_lvl_x, SPACER_need_sage_x, SPACER_num_abstractions, SPACER_num_abstractions_failed, SPACER_num_abstractions_success, SPACER_num_active_lemmas_x, SPACER_num_cant_abstract_x, SPACER_num_ctp_blocked_x, SPACER_num_dim_reduction_success_x, SPACER_num_invariants_x, SPACER_num_is_invariant_x, SPACER_num_lemma_jumped_x, SPACER_num_lemmas_x, SPACER_num_mbp_failed_x, SPACER_num_merge_gen_x, SPACER_num_merge_gen_failed_x, SPACER_num_merge_gen_success_x, SPACER_num_no_over_approximate_x, SPACER_num_non_lin_x, SPACER_num_pobs_x, SPACER_num_propagations_x, SPACER_num_queries_x, SPACER_num_reach_queries_x, SPACER_num_refinements_x, SPACER_num_reuse_reach_facts_x, SPACER_num_sync_cvx_cls_x, SPACER_num_under_approximations, SPACER_pob_out_of_gas_x, SPACER_wide_attmpts_x, SPACER_wide_success_x, max_memory_x, memory_x, result_x, time_x, time_iuc_solver_get_iuc_x, time_iuc_solver_get_iuc_hyp_reduce1_x, time_iuc_solver_get_iuc_hyp_reduce2_x, time_iuc_solver_get_iuc_learn_core_x, time_pool_solver_proof_x, time_pool_solver_smt_total_x, time_pool_solver_smt_total_sat_x, time_pool_solver_smt_total_undef_x, time_spacer_ctp_x, time_spacer_init_rules_x, time_spacer_init_rules_pt_init_x, time_spacer_mbp_x, time_spacer_solve_x, time_spacer_solve_propagate_x, time_spacer_solve_pt_must_reachable, time_spacer_solve_reach_x, time_spacer_solve_reach_children_x, time_spacer_solve_reach_cluster_x, time_spacer_solve_reach_gen_bool_ind_x, time_spacer_solve_reach_gen_merge_x, time_spacer_solve_reach_gen_merge_cvx_cls_x, time_spacer_solve_reach_gen_wide_x, time_spacer_solve_reach_is_reach_x, SPACER_cex_depth_y, SPACER_cluster_out_of_gas_y, SPACER_expand_pob_undef_y, SPACER_inductive_level_y, SPACER_max_cluster_size_y, SPACER_max_cvx_reduced_dim_y, SPACER_max_depth_y, SPACER_max_query_lvl_y, SPACER_need_sage_y, SPACER_num_active_lemmas_y, SPACER_num_cant_abstract_y, SPACER_num_ctp_blocked_y, SPACER_num_dim_reduction_success_y, SPACER_num_invariants_y, SPACER_num_is_invariant_y, SPACER_num_lemma_jumped_y, SPACER_num_lemmas_y, SPACER_num_mbp_failed_y, SPACER_num_merge_gen_y, SPACER_num_merge_gen_failed_y, SPACER_num_merge_gen_success_y, SPACER_num_no_over_approximate_y, SPACER_num_non_lin_y, SPACER_num_pobs_y, SPACER_num_propagations_y, SPACER_num_queries_y, SPACER_num_reach_queries_y, SPACER_num_refinements_y, SPACER_num_reuse_reach_facts_y, SPACER_num_sync_cvx_cls_y, SPACER_pob_out_of_gas_y, SPACER_wide_attmpts_y, SPACER_wide_success_y, max_memory_y, memory_y, ...]\n",
       "Index: []\n",
       "\n",
       "[0 rows x 124 columns]"
      ]
     },
     "execution_count": 20,
     "metadata": {},
     "output_type": "execute_result"
    }
   ],
   "source": [
    "comb = pd.merge(csm, csmnocc, on = \"index\", how = \"inner\")\n",
    "#sanity check. Make sure they don't disagree\n",
    "comb.query('(result_x == \"sat\" & result_y == \"unsat\") | (result_y == \"sat\" & result_x == \"unsat\")')"
   ]
  },
  {
   "cell_type": "code",
   "execution_count": 21,
   "metadata": {},
   "outputs": [
    {
     "data": {
      "text/html": [
       "<div>\n",
       "<style scoped>\n",
       "    .dataframe tbody tr th:only-of-type {\n",
       "        vertical-align: middle;\n",
       "    }\n",
       "\n",
       "    .dataframe tbody tr th {\n",
       "        vertical-align: top;\n",
       "    }\n",
       "\n",
       "    .dataframe thead th {\n",
       "        text-align: right;\n",
       "    }\n",
       "</style>\n",
       "<table border=\"1\" class=\"dataframe\">\n",
       "  <thead>\n",
       "    <tr style=\"text-align: right;\">\n",
       "      <th></th>\n",
       "      <th></th>\n",
       "      <th>index</th>\n",
       "    </tr>\n",
       "    <tr>\n",
       "      <th>result_x</th>\n",
       "      <th>result_y</th>\n",
       "      <th></th>\n",
       "    </tr>\n",
       "  </thead>\n",
       "  <tbody>\n",
       "    <tr>\n",
       "      <th rowspan=\"2\" valign=\"top\">sat</th>\n",
       "      <th>sat</th>\n",
       "      <td>389</td>\n",
       "    </tr>\n",
       "    <tr>\n",
       "      <th>timeout</th>\n",
       "      <td>21</td>\n",
       "    </tr>\n",
       "    <tr>\n",
       "      <th rowspan=\"4\" valign=\"top\">timeout</th>\n",
       "      <th>sat</th>\n",
       "      <td>9</td>\n",
       "    </tr>\n",
       "    <tr>\n",
       "      <th>timeout</th>\n",
       "      <td>91</td>\n",
       "    </tr>\n",
       "    <tr>\n",
       "      <th>unknown</th>\n",
       "      <td>1</td>\n",
       "    </tr>\n",
       "    <tr>\n",
       "      <th>unsat</th>\n",
       "      <td>6</td>\n",
       "    </tr>\n",
       "    <tr>\n",
       "      <th rowspan=\"2\" valign=\"top\">unsat</th>\n",
       "      <th>timeout</th>\n",
       "      <td>2</td>\n",
       "    </tr>\n",
       "    <tr>\n",
       "      <th>unsat</th>\n",
       "      <td>146</td>\n",
       "    </tr>\n",
       "  </tbody>\n",
       "</table>\n",
       "</div>"
      ],
      "text/plain": [
       "                   index\n",
       "result_x result_y       \n",
       "sat      sat         389\n",
       "         timeout      21\n",
       "timeout  sat           9\n",
       "         timeout      91\n",
       "         unknown       1\n",
       "         unsat         6\n",
       "unsat    timeout       2\n",
       "         unsat       146"
      ]
     },
     "execution_count": 21,
     "metadata": {},
     "output_type": "execute_result"
    }
   ],
   "source": [
    "comb[['result_x', 'result_y', 'index']].groupby(['result_x', 'result_y']).count()"
   ]
  },
  {
   "cell_type": "code",
   "execution_count": 22,
   "metadata": {},
   "outputs": [
    {
     "name": "stdout",
     "output_type": "stream",
     "text": [
      "len(A): 410 \tlen(B): 398\n",
      "No. values 389\n",
      "Min val, A: 1.0 \tB: 1.0\n",
      "Max val, A: 199.0 \tB: 143.0\n",
      "Avg val, A: 17.69 \tB: 18.12\n"
     ]
    },
    {
     "data": {
      "image/png": "[encoded data removed]",
      "text/plain": [
       "<Figure size 960x640 with 1 Axes>"
      ]
     },
     "metadata": {},
     "output_type": "display_data"
    }
   ],
   "source": [
    "chc_csm = preprocess(csm, True)\n",
    "chc_csm_no_cc = preprocess(csmnocc, True)\n",
    "\n",
    "scatter_values('SPACER_max_depth', chc_csm, chc_csm_no_cc)"
   ]
  },
  {
   "cell_type": "code",
   "execution_count": 23,
   "metadata": {},
   "outputs": [
    {
     "name": "stdout",
     "output_type": "stream",
     "text": [
      "len(A): 410 \tlen(B): 398\n",
      "No. values 389\n",
      "Min val, A: 0.0 \tB: 0.0\n",
      "Max val, A: 588.28 \tB: 549.89\n",
      "Avg val, A: 42.51 \tB: 42.09\n"
     ]
    },
    {
     "data": {
      "image/png": "[encoded data removed]",
      "text/plain": [
       "<Figure size 960x640 with 1 Axes>"
      ]
     },
     "metadata": {},
     "output_type": "display_data"
    }
   ],
   "source": [
    "scatter_values('time', chc_csm, chc_csm_no_cc)"
   ]
  }
 ],
 "metadata": {
  "kernelspec": {
   "display_name": "Python 3",
   "language": "python",
   "name": "python3"
  },
  "language_info": {
   "codemirror_mode": {
    "name": "ipython",
    "version": 3
   },
   "file_extension": ".py",
   "mimetype": "text/x-python",
   "name": "python",
   "nbconvert_exporter": "python",
   "pygments_lexer": "ipython3",
   "version": "3.6.9"
  }
 },
 "nbformat": 4,
 "nbformat_minor": 2
}
